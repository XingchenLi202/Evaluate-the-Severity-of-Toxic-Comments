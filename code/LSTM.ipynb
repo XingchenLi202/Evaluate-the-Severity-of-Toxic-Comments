{
 "cells": [
  {
   "cell_type": "markdown",
   "metadata": {},
   "source": [
    "<p style=\"background-color:RoyalBlue; font-family:newtimeroman; font-size:200%; text-align:center; border-radius: 10px 100px;\"><b>Importing Libraries & Data</b></p> "
   ]
  },
  {
   "cell_type": "code",
   "execution_count": 1,
   "metadata": {
    "execution": {
     "iopub.execute_input": "2021-12-14T00:13:15.157969Z",
     "iopub.status.busy": "2021-12-14T00:13:15.157609Z",
     "iopub.status.idle": "2021-12-14T00:13:15.172280Z",
     "shell.execute_reply": "2021-12-14T00:13:15.171406Z",
     "shell.execute_reply.started": "2021-12-14T00:13:15.157923Z"
    }
   },
   "outputs": [
    {
     "ename": "ModuleNotFoundError",
     "evalue": "No module named 'gensim'",
     "output_type": "error",
     "traceback": [
      "\u001b[0;31m---------------------------------------------------------------------------\u001b[0m",
      "\u001b[0;31mModuleNotFoundError\u001b[0m                       Traceback (most recent call last)",
      "\u001b[0;32m<ipython-input-1-677c38c1e4cd>\u001b[0m in \u001b[0;36m<module>\u001b[0;34m\u001b[0m\n\u001b[1;32m      9\u001b[0m \u001b[0;32mfrom\u001b[0m \u001b[0msklearn\u001b[0m\u001b[0;34m.\u001b[0m\u001b[0mmodel_selection\u001b[0m \u001b[0;32mimport\u001b[0m \u001b[0mtrain_test_split\u001b[0m\u001b[0;34m\u001b[0m\u001b[0;34m\u001b[0m\u001b[0m\n\u001b[1;32m     10\u001b[0m \u001b[0;32mfrom\u001b[0m \u001b[0msklearn\u001b[0m\u001b[0;34m.\u001b[0m\u001b[0mutils\u001b[0m \u001b[0;32mimport\u001b[0m \u001b[0mshuffle\u001b[0m\u001b[0;34m\u001b[0m\u001b[0;34m\u001b[0m\u001b[0m\n\u001b[0;32m---> 11\u001b[0;31m \u001b[0;32mimport\u001b[0m \u001b[0mgensim\u001b[0m\u001b[0;34m\u001b[0m\u001b[0;34m\u001b[0m\u001b[0m\n\u001b[0m\u001b[1;32m     12\u001b[0m \u001b[0;34m\u001b[0m\u001b[0m\n\u001b[1;32m     13\u001b[0m \u001b[0;32mfrom\u001b[0m \u001b[0mwordcloud\u001b[0m \u001b[0;32mimport\u001b[0m \u001b[0mWordCloud\u001b[0m\u001b[0;34m,\u001b[0m \u001b[0mSTOPWORDS\u001b[0m\u001b[0;34m\u001b[0m\u001b[0;34m\u001b[0m\u001b[0m\n",
      "\u001b[0;31mModuleNotFoundError\u001b[0m: No module named 'gensim'"
     ]
    }
   ],
   "source": [
    "import sys\n",
    "import numpy as np\n",
    "import pandas as pd \n",
    "import matplotlib.pyplot as plt\n",
    "import seaborn as sns\n",
    "import re\n",
    "from tqdm import tqdm\n",
    "\n",
    "from sklearn.model_selection import train_test_split\n",
    "from sklearn.utils import shuffle\n",
    "import gensim\n",
    "\n",
    "from wordcloud import WordCloud, STOPWORDS\n",
    "import nltk\n",
    "nltk.download('stopwords')\n",
    "from nltk.probability import FreqDist\n",
    "from nltk.corpus import stopwords\n",
    "from nltk.stem.porter import PorterStemmer\n",
    "\n",
    "import tensorflow as tf\n",
    "from tensorflow.keras.preprocessing.text import Tokenizer\n",
    "from tensorflow.keras.layers import Flatten, Dropout, Dense, LSTM, Embedding\n",
    "from tensorflow.keras.models import Sequential\n",
    "from tensorflow.keras.preprocessing.text import one_hot\n",
    "from tensorflow.keras.preprocessing.sequence import pad_sequences\n",
    "from tensorflow.keras.callbacks import EarlyStopping\n",
    "\n",
    "from sklearn.metrics import confusion_matrix, accuracy_score"
   ]
  },
  {
   "cell_type": "markdown",
   "metadata": {},
   "source": [
    "## Use TPU"
   ]
  },
  {
   "cell_type": "code",
   "execution_count": 50,
   "metadata": {
    "execution": {
     "iopub.execute_input": "2021-12-14T00:13:15.175248Z",
     "iopub.status.busy": "2021-12-14T00:13:15.174322Z",
     "iopub.status.idle": "2021-12-14T00:13:15.184281Z",
     "shell.execute_reply": "2021-12-14T00:13:15.183244Z",
     "shell.execute_reply.started": "2021-12-14T00:13:15.175188Z"
    }
   },
   "outputs": [],
   "source": [
    "# import tensorflow as tf\n",
    "\n",
    "# import os\n",
    "# import tensorflow_datasets as tfds"
   ]
  },
  {
   "cell_type": "markdown",
   "metadata": {},
   "source": [
    "### TPU initialization"
   ]
  },
  {
   "cell_type": "code",
   "execution_count": 51,
   "metadata": {
    "execution": {
     "iopub.execute_input": "2021-12-14T00:13:15.187138Z",
     "iopub.status.busy": "2021-12-14T00:13:15.186362Z",
     "iopub.status.idle": "2021-12-14T00:13:15.195337Z",
     "shell.execute_reply": "2021-12-14T00:13:15.194449Z",
     "shell.execute_reply.started": "2021-12-14T00:13:15.187053Z"
    }
   },
   "outputs": [],
   "source": [
    "# resolver = tf.distribute.cluster_resolver.TPUClusterResolver(tpu='')\n",
    "# tf.config.experimental_connect_to_cluster(resolver)\n",
    "# # This is the TPU initialization code that has to be at the beginning.\n",
    "# tf.tpu.experimental.initialize_tpu_system(resolver)\n",
    "# print(\"All devices: \", tf.config.list_logical_devices('TPU'))"
   ]
  },
  {
   "cell_type": "code",
   "execution_count": 52,
   "metadata": {
    "execution": {
     "iopub.execute_input": "2021-12-14T00:13:15.197564Z",
     "iopub.status.busy": "2021-12-14T00:13:15.196837Z",
     "iopub.status.idle": "2021-12-14T00:13:15.205842Z",
     "shell.execute_reply": "2021-12-14T00:13:15.205049Z",
     "shell.execute_reply.started": "2021-12-14T00:13:15.197524Z"
    }
   },
   "outputs": [],
   "source": [
    "# a = tf.constant([[1.0, 2.0, 3.0], [4.0, 5.0, 6.0]])\n",
    "# b = tf.constant([[1.0, 2.0], [3.0, 4.0], [5.0, 6.0]])\n",
    "\n",
    "# with tf.device('/TPU:0'):\n",
    "#   c = tf.matmul(a, b)\n",
    "\n",
    "# print(\"c device: \", c.device)\n"
   ]
  },
  {
   "cell_type": "code",
   "execution_count": 53,
   "metadata": {
    "execution": {
     "iopub.execute_input": "2021-12-14T00:13:15.210819Z",
     "iopub.status.busy": "2021-12-14T00:13:15.210079Z",
     "iopub.status.idle": "2021-12-14T00:13:15.214987Z",
     "shell.execute_reply": "2021-12-14T00:13:15.214177Z",
     "shell.execute_reply.started": "2021-12-14T00:13:15.210767Z"
    }
   },
   "outputs": [],
   "source": [
    "# strategy = tf.distribute.TPUStrategy(resolver)\n",
    "# print(strategy)"
   ]
  },
  {
   "cell_type": "code",
   "execution_count": 54,
   "metadata": {
    "execution": {
     "iopub.execute_input": "2021-12-14T00:13:15.217644Z",
     "iopub.status.busy": "2021-12-14T00:13:15.216889Z",
     "iopub.status.idle": "2021-12-14T00:13:16.164014Z",
     "shell.execute_reply": "2021-12-14T00:13:16.163085Z",
     "shell.execute_reply.started": "2021-12-14T00:13:15.217477Z"
    }
   },
   "outputs": [],
   "source": [
    "dff = pd.read_csv('../input/jigsaw-toxic-comment-classification-challenge/train.csv')\n",
    "dff.head()"
   ]
  },
  {
   "cell_type": "markdown",
   "metadata": {},
   "source": [
    "## Getting the data together (test data)"
   ]
  },
  {
   "cell_type": "code",
   "execution_count": 55,
   "metadata": {
    "execution": {
     "iopub.execute_input": "2021-12-14T00:13:16.165748Z",
     "iopub.status.busy": "2021-12-14T00:13:16.165330Z",
     "iopub.status.idle": "2021-12-14T00:13:17.268977Z",
     "shell.execute_reply": "2021-12-14T00:13:17.268114Z",
     "shell.execute_reply.started": "2021-12-14T00:13:16.165708Z"
    }
   },
   "outputs": [],
   "source": [
    "df_test = pd.read_csv(\"../input/jigsaw-toxic-comment-classification-challenge/test.csv\")\n",
    "df_test_l = pd.read_csv(\"../input/jigsaw-toxic-comment-classification-challenge/test_labels.csv\")\n",
    "\n",
    "## We have test and test labels. So merging them together.\n",
    "df_test = pd.merge(df_test, df_test_l, how = 'left', on = 'id')\n",
    "df_test.head()"
   ]
  },
  {
   "cell_type": "markdown",
   "metadata": {},
   "source": [
    "<p style=\"background-color:RoyalBlue; font-family:newtimeroman; font-size:200%; text-align:center; border-radius: 10px 100px;\"><b>Quick EDA</b></p> "
   ]
  },
  {
   "cell_type": "code",
   "execution_count": 56,
   "metadata": {
    "execution": {
     "iopub.execute_input": "2021-12-14T00:13:17.270713Z",
     "iopub.status.busy": "2021-12-14T00:13:17.270316Z",
     "iopub.status.idle": "2021-12-14T00:13:19.395041Z",
     "shell.execute_reply": "2021-12-14T00:13:19.394260Z",
     "shell.execute_reply.started": "2021-12-14T00:13:17.270668Z"
    }
   },
   "outputs": [],
   "source": [
    "## Plotting the histogram to check the distribution of length of each reviews. \n",
    "plt.hist([len(x) for x in dff['comment_text']], bins=500)\n",
    "plt.show()"
   ]
  },
  {
   "cell_type": "code",
   "execution_count": 57,
   "metadata": {
    "execution": {
     "iopub.execute_input": "2021-12-14T00:13:19.397266Z",
     "iopub.status.busy": "2021-12-14T00:13:19.396314Z",
     "iopub.status.idle": "2021-12-14T00:13:19.404127Z",
     "shell.execute_reply": "2021-12-14T00:13:19.403365Z",
     "shell.execute_reply.started": "2021-12-14T00:13:19.397204Z"
    }
   },
   "outputs": [],
   "source": [
    "dff.shape"
   ]
  },
  {
   "cell_type": "code",
   "execution_count": 58,
   "metadata": {
    "execution": {
     "iopub.execute_input": "2021-12-14T00:13:19.406551Z",
     "iopub.status.busy": "2021-12-14T00:13:19.405396Z",
     "iopub.status.idle": "2021-12-14T00:13:19.463247Z",
     "shell.execute_reply": "2021-12-14T00:13:19.462282Z",
     "shell.execute_reply.started": "2021-12-14T00:13:19.406507Z"
    }
   },
   "outputs": [],
   "source": [
    "dff.isna().sum()"
   ]
  },
  {
   "cell_type": "code",
   "execution_count": 59,
   "metadata": {
    "execution": {
     "iopub.execute_input": "2021-12-14T00:13:19.465314Z",
     "iopub.status.busy": "2021-12-14T00:13:19.464989Z",
     "iopub.status.idle": "2021-12-14T00:13:19.513401Z",
     "shell.execute_reply": "2021-12-14T00:13:19.512361Z",
     "shell.execute_reply.started": "2021-12-14T00:13:19.465273Z"
    }
   },
   "outputs": [],
   "source": [
    "dff.describe()"
   ]
  },
  {
   "cell_type": "code",
   "execution_count": 60,
   "metadata": {
    "execution": {
     "iopub.execute_input": "2021-12-14T00:13:19.515633Z",
     "iopub.status.busy": "2021-12-14T00:13:19.515288Z",
     "iopub.status.idle": "2021-12-14T00:13:19.525709Z",
     "shell.execute_reply": "2021-12-14T00:13:19.524619Z",
     "shell.execute_reply.started": "2021-12-14T00:13:19.515588Z"
    }
   },
   "outputs": [],
   "source": [
    "dff.severe_toxic.value_counts()"
   ]
  },
  {
   "cell_type": "code",
   "execution_count": 61,
   "metadata": {
    "execution": {
     "iopub.execute_input": "2021-12-14T00:13:19.528969Z",
     "iopub.status.busy": "2021-12-14T00:13:19.528000Z",
     "iopub.status.idle": "2021-12-14T00:13:19.565352Z",
     "shell.execute_reply": "2021-12-14T00:13:19.564555Z",
     "shell.execute_reply.started": "2021-12-14T00:13:19.528841Z"
    }
   },
   "outputs": [],
   "source": [
    "dff['toxicity'] = (dff[['toxic', 'severe_toxic', 'obscene', 'threat', 'insult', 'identity_hate']].sum(axis=1) > 0 ).astype(int)\n",
    "dff = dff[['comment_text', 'toxicity']].rename(columns={'comment_text': 'text'})\n",
    "dff.sample(5)"
   ]
  },
  {
   "cell_type": "code",
   "execution_count": 62,
   "metadata": {
    "execution": {
     "iopub.execute_input": "2021-12-14T00:13:19.570265Z",
     "iopub.status.busy": "2021-12-14T00:13:19.569468Z",
     "iopub.status.idle": "2021-12-14T00:13:19.589421Z",
     "shell.execute_reply": "2021-12-14T00:13:19.588589Z",
     "shell.execute_reply.started": "2021-12-14T00:13:19.570203Z"
    }
   },
   "outputs": [],
   "source": [
    "dff.describe()"
   ]
  },
  {
   "cell_type": "code",
   "execution_count": 63,
   "metadata": {
    "execution": {
     "iopub.execute_input": "2021-12-14T00:13:19.591692Z",
     "iopub.status.busy": "2021-12-14T00:13:19.591108Z",
     "iopub.status.idle": "2021-12-14T00:13:19.602337Z",
     "shell.execute_reply": "2021-12-14T00:13:19.601474Z",
     "shell.execute_reply.started": "2021-12-14T00:13:19.591646Z"
    }
   },
   "outputs": [],
   "source": [
    "dff.head()"
   ]
  },
  {
   "cell_type": "code",
   "execution_count": 64,
   "metadata": {
    "execution": {
     "iopub.execute_input": "2021-12-14T00:13:19.604766Z",
     "iopub.status.busy": "2021-12-14T00:13:19.604125Z",
     "iopub.status.idle": "2021-12-14T00:13:19.616299Z",
     "shell.execute_reply": "2021-12-14T00:13:19.615401Z",
     "shell.execute_reply.started": "2021-12-14T00:13:19.604719Z"
    }
   },
   "outputs": [],
   "source": [
    "dff.toxicity.value_counts()"
   ]
  },
  {
   "cell_type": "markdown",
   "metadata": {},
   "source": [
    "data is not balanced."
   ]
  },
  {
   "cell_type": "code",
   "execution_count": 65,
   "metadata": {
    "execution": {
     "iopub.execute_input": "2021-12-14T00:13:19.618632Z",
     "iopub.status.busy": "2021-12-14T00:13:19.617989Z",
     "iopub.status.idle": "2021-12-14T00:13:19.659966Z",
     "shell.execute_reply": "2021-12-14T00:13:19.659201Z",
     "shell.execute_reply.started": "2021-12-14T00:13:19.618591Z"
    }
   },
   "outputs": [],
   "source": [
    "min_len = (dff['toxicity'] == 1).sum()\n",
    "df_undersample = dff[dff['toxicity'] == 0].sample(n=min_len, random_state=201)\n",
    "dff = pd.concat([df_undersample, dff[dff['toxicity'] == 1]])\n",
    "dff = shuffle(dff)"
   ]
  },
  {
   "cell_type": "code",
   "execution_count": 66,
   "metadata": {
    "execution": {
     "iopub.execute_input": "2021-12-14T00:13:19.661964Z",
     "iopub.status.busy": "2021-12-14T00:13:19.661445Z",
     "iopub.status.idle": "2021-12-14T00:13:19.696672Z",
     "shell.execute_reply": "2021-12-14T00:13:19.695725Z",
     "shell.execute_reply.started": "2021-12-14T00:13:19.661923Z"
    }
   },
   "outputs": [],
   "source": [
    "dff.text = dff.text.map(lambda x:x.replace('\\n', ' '))\n",
    "dff.text[:2]"
   ]
  },
  {
   "cell_type": "code",
   "execution_count": 67,
   "metadata": {
    "execution": {
     "iopub.execute_input": "2021-12-14T00:13:19.699719Z",
     "iopub.status.busy": "2021-12-14T00:13:19.699342Z",
     "iopub.status.idle": "2021-12-14T00:13:19.712164Z",
     "shell.execute_reply": "2021-12-14T00:13:19.711388Z",
     "shell.execute_reply.started": "2021-12-14T00:13:19.699681Z"
    }
   },
   "outputs": [],
   "source": [
    "toxic = dff[dff['toxicity'] == 1]\n",
    "not_toxic = dff[dff['toxicity'] == 0]"
   ]
  },
  {
   "cell_type": "markdown",
   "metadata": {},
   "source": [
    "## Word Cloud"
   ]
  },
  {
   "cell_type": "code",
   "execution_count": 68,
   "metadata": {
    "execution": {
     "iopub.execute_input": "2021-12-14T00:13:19.713991Z",
     "iopub.status.busy": "2021-12-14T00:13:19.713698Z",
     "iopub.status.idle": "2021-12-14T00:13:25.881784Z",
     "shell.execute_reply": "2021-12-14T00:13:25.881180Z",
     "shell.execute_reply.started": "2021-12-14T00:13:19.713951Z"
    }
   },
   "outputs": [],
   "source": [
    "wordcloud = WordCloud(width=1400, height=700, background_color='white').generate(' '.join(toxic.text.tolist()))\n",
    "fig = plt.figure(figsize=(30,10), facecolor='white')\n",
    "plt.imshow(wordcloud)\n",
    "plt.axis('off')\n",
    "plt.title('The most 100 frequent words in the toxic comments', fontsize=50)\n",
    "plt.tight_layout(pad=0)\n",
    "plt.show()"
   ]
  },
  {
   "cell_type": "code",
   "execution_count": 69,
   "metadata": {
    "execution": {
     "iopub.execute_input": "2021-12-14T00:13:25.883617Z",
     "iopub.status.busy": "2021-12-14T00:13:25.882820Z",
     "iopub.status.idle": "2021-12-14T00:13:33.249724Z",
     "shell.execute_reply": "2021-12-14T00:13:33.248981Z",
     "shell.execute_reply.started": "2021-12-14T00:13:25.883580Z"
    }
   },
   "outputs": [],
   "source": [
    "wordcloud = WordCloud(width=1400, height=700, background_color='white').generate(' '.join(not_toxic.text.tolist()))\n",
    "fig = plt.figure(figsize=(30,10), facecolor='white')\n",
    "plt.imshow(wordcloud)\n",
    "plt.axis('off')\n",
    "plt.title('The most 100 frequent words in the normal comments', fontsize=50)\n",
    "plt.tight_layout(pad=0)\n",
    "plt.show()"
   ]
  },
  {
   "cell_type": "markdown",
   "metadata": {},
   "source": [
    "<p style=\"background-color:RoyalBlue; font-family:newtimeroman; font-size:200%; text-align:center; border-radius: 10px 100px;\"><b>Text Pre-Processing</b></p> "
   ]
  },
  {
   "cell_type": "code",
   "execution_count": 70,
   "metadata": {
    "execution": {
     "iopub.execute_input": "2021-12-14T00:13:33.251257Z",
     "iopub.status.busy": "2021-12-14T00:13:33.250861Z",
     "iopub.status.idle": "2021-12-14T00:13:33.260748Z",
     "shell.execute_reply": "2021-12-14T00:13:33.259610Z",
     "shell.execute_reply.started": "2021-12-14T00:13:33.251200Z"
    }
   },
   "outputs": [],
   "source": [
    "y = dff.toxicity\n",
    "x = dff.drop('toxicity', axis = 1)"
   ]
  },
  {
   "cell_type": "code",
   "execution_count": 71,
   "metadata": {
    "execution": {
     "iopub.execute_input": "2021-12-14T00:13:33.262876Z",
     "iopub.status.busy": "2021-12-14T00:13:33.262540Z",
     "iopub.status.idle": "2021-12-14T00:13:33.275031Z",
     "shell.execute_reply": "2021-12-14T00:13:33.274275Z",
     "shell.execute_reply.started": "2021-12-14T00:13:33.262828Z"
    }
   },
   "outputs": [],
   "source": [
    "texts = x.copy()\n",
    "texts.reset_index(inplace = True, drop = True)\n",
    "texts.head()"
   ]
  },
  {
   "cell_type": "code",
   "execution_count": 72,
   "metadata": {
    "execution": {
     "iopub.execute_input": "2021-12-14T00:13:33.277390Z",
     "iopub.status.busy": "2021-12-14T00:13:33.276755Z",
     "iopub.status.idle": "2021-12-14T00:13:33.286327Z",
     "shell.execute_reply": "2021-12-14T00:13:33.285194Z",
     "shell.execute_reply.started": "2021-12-14T00:13:33.277281Z"
    }
   },
   "outputs": [],
   "source": [
    "print(sys.getrecursionlimit())"
   ]
  },
  {
   "cell_type": "code",
   "execution_count": 73,
   "metadata": {
    "execution": {
     "iopub.execute_input": "2021-12-14T00:13:33.289103Z",
     "iopub.status.busy": "2021-12-14T00:13:33.288439Z",
     "iopub.status.idle": "2021-12-14T00:13:33.293719Z",
     "shell.execute_reply": "2021-12-14T00:13:33.292694Z",
     "shell.execute_reply.started": "2021-12-14T00:13:33.289062Z"
    }
   },
   "outputs": [],
   "source": [
    "sys.setrecursionlimit(6000)"
   ]
  },
  {
   "cell_type": "code",
   "execution_count": 74,
   "metadata": {
    "execution": {
     "iopub.execute_input": "2021-12-14T00:13:33.296560Z",
     "iopub.status.busy": "2021-12-14T00:13:33.295703Z",
     "iopub.status.idle": "2021-12-14T00:18:39.579801Z",
     "shell.execute_reply": "2021-12-14T00:18:39.578884Z",
     "shell.execute_reply.started": "2021-12-14T00:13:33.296518Z"
    }
   },
   "outputs": [],
   "source": [
    "ps = PorterStemmer()# 清洁文本，去掉单词的不同时态，只保留词根含义\n",
    "corpus = []\n",
    "\n",
    "for i in tqdm(range(0, len(texts))) :\n",
    "    cleaned = re.sub('[^a-zA-Z]', ' ', texts['text'][i])\n",
    "    cleaned = cleaned.lower().split()\n",
    "\n",
    "    cleaned = [ps.stem(word) for word in cleaned if not word in stopwords.words('english')]\n",
    "    cleaned = ' '.join(cleaned)\n",
    "    corpus.append(cleaned)"
   ]
  },
  {
   "cell_type": "markdown",
   "metadata": {},
   "source": [
    " "
   ]
  },
  {
   "cell_type": "code",
   "execution_count": 75,
   "metadata": {
    "execution": {
     "iopub.execute_input": "2021-12-14T00:18:39.581463Z",
     "iopub.status.busy": "2021-12-14T00:18:39.581166Z",
     "iopub.status.idle": "2021-12-14T00:18:51.408885Z",
     "shell.execute_reply": "2021-12-14T00:18:51.408025Z",
     "shell.execute_reply.started": "2021-12-14T00:18:39.581426Z"
    }
   },
   "outputs": [],
   "source": [
    "DIM = 100\n",
    "\n",
    "X = [d.split() for d in corpus]\n",
    "w2v_model = gensim.models.Word2Vec(sentences = X, vector_size = DIM, window = 10, min_count = 1)"
   ]
  },
  {
   "cell_type": "code",
   "execution_count": 76,
   "metadata": {
    "execution": {
     "iopub.execute_input": "2021-12-14T00:18:51.410712Z",
     "iopub.status.busy": "2021-12-14T00:18:51.410461Z",
     "iopub.status.idle": "2021-12-14T00:18:51.417235Z",
     "shell.execute_reply": "2021-12-14T00:18:51.416273Z",
     "shell.execute_reply.started": "2021-12-14T00:18:51.410677Z"
    }
   },
   "outputs": [],
   "source": [
    "len(w2v_model.wv.key_to_index.keys()) "
   ]
  },
  {
   "cell_type": "code",
   "execution_count": 77,
   "metadata": {
    "execution": {
     "iopub.execute_input": "2021-12-14T00:18:51.419490Z",
     "iopub.status.busy": "2021-12-14T00:18:51.418921Z",
     "iopub.status.idle": "2021-12-14T00:18:51.441673Z",
     "shell.execute_reply": "2021-12-14T00:18:51.440842Z",
     "shell.execute_reply.started": "2021-12-14T00:18:51.419455Z"
    }
   },
   "outputs": [],
   "source": [
    "w2v_model.wv.most_similar('toxic')"
   ]
  },
  {
   "cell_type": "code",
   "execution_count": 78,
   "metadata": {
    "execution": {
     "iopub.execute_input": "2021-12-14T00:18:51.444372Z",
     "iopub.status.busy": "2021-12-14T00:18:51.443325Z",
     "iopub.status.idle": "2021-12-14T00:18:52.280537Z",
     "shell.execute_reply": "2021-12-14T00:18:52.279737Z",
     "shell.execute_reply.started": "2021-12-14T00:18:51.444321Z"
    }
   },
   "outputs": [],
   "source": [
    "tokenizer = Tokenizer()\n",
    "tokenizer.fit_on_texts(X) "
   ]
  },
  {
   "cell_type": "code",
   "execution_count": 79,
   "metadata": {
    "execution": {
     "iopub.execute_input": "2021-12-14T00:18:52.281997Z",
     "iopub.status.busy": "2021-12-14T00:18:52.281735Z",
     "iopub.status.idle": "2021-12-14T00:18:52.798805Z",
     "shell.execute_reply": "2021-12-14T00:18:52.798018Z",
     "shell.execute_reply.started": "2021-12-14T00:18:52.281962Z"
    }
   },
   "outputs": [],
   "source": [
    "X = tokenizer.texts_to_sequences(X)\n",
    "# X[:3]"
   ]
  },
  {
   "cell_type": "code",
   "execution_count": 80,
   "metadata": {
    "execution": {
     "iopub.execute_input": "2021-12-14T00:18:52.800426Z",
     "iopub.status.busy": "2021-12-14T00:18:52.800053Z",
     "iopub.status.idle": "2021-12-14T00:18:53.073795Z",
     "shell.execute_reply": "2021-12-14T00:18:53.073105Z",
     "shell.execute_reply.started": "2021-12-14T00:18:52.800387Z"
    }
   },
   "outputs": [],
   "source": [
    "X = pad_sequences(X, padding = 'pre', maxlen = 20)\n",
    "X[:3]"
   ]
  },
  {
   "cell_type": "code",
   "execution_count": 81,
   "metadata": {
    "execution": {
     "iopub.execute_input": "2021-12-14T00:18:53.075569Z",
     "iopub.status.busy": "2021-12-14T00:18:53.075257Z",
     "iopub.status.idle": "2021-12-14T00:18:53.081502Z",
     "shell.execute_reply": "2021-12-14T00:18:53.080803Z",
     "shell.execute_reply.started": "2021-12-14T00:18:53.075532Z"
    }
   },
   "outputs": [],
   "source": [
    "vocab_size = len(tokenizer.word_index) + 1 \n",
    "vocab = tokenizer.word_index"
   ]
  },
  {
   "cell_type": "code",
   "execution_count": 82,
   "metadata": {
    "execution": {
     "iopub.execute_input": "2021-12-14T00:18:53.083497Z",
     "iopub.status.busy": "2021-12-14T00:18:53.082950Z",
     "iopub.status.idle": "2021-12-14T00:18:53.236924Z",
     "shell.execute_reply": "2021-12-14T00:18:53.236197Z",
     "shell.execute_reply.started": "2021-12-14T00:18:53.083461Z"
    }
   },
   "outputs": [],
   "source": [
    "def get_weights_matrix(model) :\n",
    "    weights_matrix = np.zeros((vocab_size, DIM))\n",
    "\n",
    "    for word, i in vocab.items() :\n",
    "        weights_matrix[i] = model.wv[word]\n",
    "\n",
    "    return weights_matrix\n",
    "\n",
    "\n",
    "embedding_vectors = get_weights_matrix(w2v_model) "
   ]
  },
  {
   "cell_type": "markdown",
   "metadata": {},
   "source": [
    "<p style=\"background-color:RoyalBlue; font-family:newtimeroman; font-size:200%; text-align:center; border-radius: 10px 100px;\"><b>Modeling & Training</b></p> "
   ]
  },
  {
   "cell_type": "code",
   "execution_count": 83,
   "metadata": {
    "execution": {
     "iopub.execute_input": "2021-12-14T00:18:53.238746Z",
     "iopub.status.busy": "2021-12-14T00:18:53.238458Z",
     "iopub.status.idle": "2021-12-14T00:18:53.244069Z",
     "shell.execute_reply": "2021-12-14T00:18:53.243195Z",
     "shell.execute_reply.started": "2021-12-14T00:18:53.238699Z"
    }
   },
   "outputs": [],
   "source": [
    "# # with strategy.scope():\n",
    "# from keras.layers import LSTM, Bidirectional, GlobalMaxPool1D, Dropout\n",
    "\n",
    "# model = Sequential()\n",
    "\n",
    "# model.add(Embedding(vocab_size, output_dim = DIM, weights = [embedding_vectors], input_length = 20)) \n",
    "# model.add(Dropout(0.2))\n",
    "\n",
    "# model.add(Bidirectional(LSTM(64, return_sequences = True)))\n",
    "# model.add(GlobalMaxPool1D()) \n",
    "# # model.add(LSTM(64))\n",
    "# model.add(Dropout(0.2))\n",
    "\n",
    "# model.add(Dense(64, activation='relu'))\n",
    "# model.add(Dropout(0.2))\n",
    "\n",
    "# model.add(Dense(64, activation='relu'))\n",
    "# model.add(Dropout(0.2))\n",
    "\n",
    "# model.add(Dense(1, activation = 'linear'))"
   ]
  },
  {
   "cell_type": "code",
   "execution_count": 84,
   "metadata": {
    "execution": {
     "iopub.execute_input": "2021-12-14T00:23:53.291241Z",
     "iopub.status.busy": "2021-12-14T00:23:53.290938Z",
     "iopub.status.idle": "2021-12-14T00:23:53.591582Z",
     "shell.execute_reply": "2021-12-14T00:23:53.590809Z",
     "shell.execute_reply.started": "2021-12-14T00:23:53.291191Z"
    }
   },
   "outputs": [],
   "source": [
    "## 2 LSTM\n",
    "from keras.layers import LSTM, Bidirectional, GlobalMaxPool1D, Dropout\n",
    "\n",
    "model = Sequential()\n",
    "\n",
    "model.add(Embedding(vocab_size, output_dim = DIM, weights = [embedding_vectors], input_length = 20)) \n",
    "model.add(Dropout(0.2))\n",
    "\n",
    "model.add(LSTM(64, return_sequences = True))\n",
    "# model.add(Bidirectional(LSTM(64, return_sequences = True)))\n",
    "# model.add(Bidirectional(LSTM(128)))\n",
    "model.add(Dropout(0.2))\n",
    "\n",
    "model.add(Dense(64, activation='relu'))\n",
    "model.add(Dropout(0.2))\n",
    "\n",
    "model.add(Dense(64, activation='relu'))\n",
    "model.add(Dropout(0.2))\n",
    "\n",
    "model.add(Dense(1, activation = 'sigmoid'))\n",
    "\n"
   ]
  },
  {
   "cell_type": "code",
   "execution_count": null,
   "metadata": {
    "execution": {
     "iopub.execute_input": "2021-12-13T09:22:24.752648Z",
     "iopub.status.busy": "2021-12-13T09:22:24.752373Z",
     "iopub.status.idle": "2021-12-13T09:22:25.681689Z",
     "shell.execute_reply": "2021-12-13T09:22:25.680892Z",
     "shell.execute_reply.started": "2021-12-13T09:22:24.752618Z"
    }
   },
   "outputs": [],
   "source": [
    "## Model Architecture  https://www.kaggle.com/kaushikholla/using-rnn-and-lstm-with-gpu-0-707\n",
    "model = tf.keras.Sequential([\n",
    "    tf.keras.layers.Embedding(vocab_size, output_dim = DIM, weights = [embedding_vectors], input_length = 1000),\n",
    "    tf.keras.layers.Bidirectional(tf.keras.layers.LSTM(256, return_sequences=True)),\n",
    "    tf.keras.layers.Dropout(0.2),\n",
    "    tf.keras.layers.Bidirectional(tf.keras.layers.LSTM(128)),\n",
    "    tf.keras.layers.Dropout(0.2),\n",
    "    tf.keras.layers.Dense(128, activation='relu'),\n",
    "    tf.keras.layers.Dropout(0.2),\n",
    "    tf.keras.layers.Dense(1, activation='sigmoid')\n",
    "])"
   ]
  },
  {
   "cell_type": "code",
   "execution_count": 90,
   "metadata": {
    "execution": {
     "iopub.execute_input": "2021-12-14T00:25:56.436715Z",
     "iopub.status.busy": "2021-12-14T00:25:56.436427Z",
     "iopub.status.idle": "2021-12-14T00:26:14.862856Z",
     "shell.execute_reply": "2021-12-14T00:26:14.862078Z",
     "shell.execute_reply.started": "2021-12-14T00:25:56.436685Z"
    }
   },
   "outputs": [],
   "source": [
    "#   with strategy.scope():  \n",
    "model.compile(loss = 'mean_squared_error', optimizer = 'adam', metrics = 'accuracy')\n",
    "# model.compile(loss = 'binary_crossentropy', optimizer = 'adam', metrics = 'accuracy')\n",
    "model.summary()\n",
    "\n",
    "# img of model\n",
    "from keras.utils.vis_utils import plot_model\n",
    "plot_model(model, to_file='./model.png', show_shapes=False, show_layer_names=True)"
   ]
  },
  {
   "cell_type": "code",
   "execution_count": 91,
   "metadata": {
    "_kg_hide-output": true,
    "execution": {
     "iopub.execute_input": "2021-12-14T00:26:14.865611Z",
     "iopub.status.busy": "2021-12-14T00:26:14.865123Z",
     "iopub.status.idle": "2021-12-14T00:26:56.705441Z",
     "shell.execute_reply": "2021-12-14T00:26:56.704409Z",
     "shell.execute_reply.started": "2021-12-14T00:26:14.865568Z"
    }
   },
   "outputs": [],
   "source": [
    "x_train, x_test, y_train, y_test = train_test_split(X, y, test_size = 0.2, random_state = 0)\n",
    "# from keras.callbacks import ModelCheckpoint\n",
    "# checkpoint = ModelCheckpoint('./', monitor='loss', \n",
    "#                              verbose=1, save_best_only=True, \n",
    "#                              mode='min')\n",
    "\n",
    "def schedule(epoch):\n",
    "    if epoch < 50:\n",
    "        return .001\n",
    "    if epoch < 300:\n",
    "        return .0001\n",
    "    if epoch < 600:\n",
    "        return .00001\n",
    "    if epoch < 900:\n",
    "        return .000001\n",
    "    else:\n",
    "        return .0000001      \n",
    "#将LearningRateScheduler类实例化   \n",
    "lr_scheduler = tf.keras.callbacks.LearningRateScheduler(schedule)\n",
    "\n",
    "early = EarlyStopping(patience=3, \n",
    "                   monitor='val_acc', \n",
    "                   restore_best_weights=True, \n",
    "                   mode='max', \n",
    "                   verbose=1)\n",
    "\n",
    "callback_list = [lr_scheduler, early]\n",
    "\n",
    "# train the model \n",
    "# with strategy.scope():\n",
    "hist = model.fit(x_train, y_train, validation_data = (x_test, y_test), epochs = 20,\n",
    "                 callbacks = callback_list, batch_size = 32, shuffle=True)"
   ]
  },
  {
   "cell_type": "code",
   "execution_count": 87,
   "metadata": {
    "execution": {
     "iopub.execute_input": "2021-12-14T00:24:42.797153Z",
     "iopub.status.busy": "2021-12-14T00:24:42.796886Z",
     "iopub.status.idle": "2021-12-14T00:24:43.174731Z",
     "shell.execute_reply": "2021-12-14T00:24:43.174029Z",
     "shell.execute_reply.started": "2021-12-14T00:24:42.797124Z"
    }
   },
   "outputs": [],
   "source": [
    "# loss: 0.0050 - accuracy: 0.9970 - val_loss: 0.1164 - val_accuracy: 0.8764\n",
    "plt.style.use('fivethirtyeight')\n",
    "\n",
    "# visualize the models accuracy\n",
    "plt.plot(hist.history['accuracy'])\n",
    "plt.plot(hist.history['val_accuracy'])\n",
    "plt.ylabel('accuracy')\n",
    "plt.xlabel('epoch')\n",
    "plt.legend(['train', 'val'], loc = 'best')\n",
    "plt.show()  \n",
    "\n",
    "# visualize the models loss\n",
    "plt.plot(hist.history['loss'])\n",
    "plt.plot(hist.history['val_loss'])\n",
    "plt.ylabel('loss')\n",
    "plt.xlabel('epoch')\n",
    "plt.legend(['train', 'val'], loc = 'best')\n",
    "plt.show()  "
   ]
  },
  {
   "cell_type": "markdown",
   "metadata": {},
   "source": [
    "### Other train to compare"
   ]
  },
  {
   "cell_type": "code",
   "execution_count": null,
   "metadata": {
    "execution": {
     "iopub.execute_input": "2021-12-13T05:10:57.1909Z",
     "iopub.status.busy": "2021-12-13T05:10:57.190641Z",
     "iopub.status.idle": "2021-12-13T05:10:57.469574Z",
     "shell.execute_reply": "2021-12-13T05:10:57.468609Z",
     "shell.execute_reply.started": "2021-12-13T05:10:57.190859Z"
    }
   },
   "outputs": [],
   "source": [
    "# hist = model.fit(x_train, y_train, validation_data = (x_test, y_test), epochs = 50,\n",
    "#                  callbacks=es, batch_size = 128, shuffle=True)\n",
    "# plt.style.use('fivethirtyeight')\n",
    "\n",
    "# # visualize the models accuracy\n",
    "# plt.plot(hist.history['accuracy'])\n",
    "# plt.plot(hist.history['val_accuracy'])\n",
    "# plt.ylabel('accuracy')\n",
    "# plt.xlabel('epoch')\n",
    "# plt.legend(['train', 'val'], loc = 'upper left')\n",
    "# plt.show()  "
   ]
  },
  {
   "cell_type": "markdown",
   "metadata": {},
   "source": [
    "<p style=\"background-color:RoyalBlue; font-family:newtimeroman; font-size:200%; text-align:center; border-radius: 10px 100px;\"><b>Submission</b></p> "
   ]
  },
  {
   "cell_type": "code",
   "execution_count": null,
   "metadata": {
    "execution": {
     "iopub.execute_input": "2021-12-13T09:57:08.163465Z",
     "iopub.status.busy": "2021-12-13T09:57:08.16293Z",
     "iopub.status.idle": "2021-12-13T09:57:08.270853Z",
     "shell.execute_reply": "2021-12-13T09:57:08.269965Z",
     "shell.execute_reply.started": "2021-12-13T09:57:08.163426Z"
    }
   },
   "outputs": [],
   "source": [
    "sub = pd.read_csv(\"../input/jigsaw-toxic-severity-rating/comments_to_score.csv\")"
   ]
  },
  {
   "cell_type": "code",
   "execution_count": null,
   "metadata": {
    "execution": {
     "iopub.execute_input": "2021-12-13T09:57:09.081134Z",
     "iopub.status.busy": "2021-12-13T09:57:09.080684Z",
     "iopub.status.idle": "2021-12-13T09:57:09.674796Z",
     "shell.execute_reply": "2021-12-13T09:57:09.671429Z",
     "shell.execute_reply.started": "2021-12-13T09:57:09.081094Z"
    }
   },
   "outputs": [],
   "source": [
    "new_text = tokenizer.texts_to_sequences(sub.text)\n",
    "new_text = pad_sequences(new_text, maxlen = 1000) # 20"
   ]
  },
  {
   "cell_type": "code",
   "execution_count": null,
   "metadata": {
    "execution": {
     "iopub.execute_input": "2021-12-13T09:57:10.880639Z",
     "iopub.status.busy": "2021-12-13T09:57:10.88036Z",
     "iopub.status.idle": "2021-12-13T09:57:52.846652Z",
     "shell.execute_reply": "2021-12-13T09:57:52.845952Z",
     "shell.execute_reply.started": "2021-12-13T09:57:10.880597Z"
    }
   },
   "outputs": [],
   "source": [
    "sub['score'] = model.predict(new_text) * 1000 \n",
    "sub.head()"
   ]
  },
  {
   "cell_type": "code",
   "execution_count": null,
   "metadata": {
    "execution": {
     "iopub.execute_input": "2021-12-13T05:11:59.427429Z",
     "iopub.status.busy": "2021-12-13T05:11:59.427061Z",
     "iopub.status.idle": "2021-12-13T05:11:59.456958Z",
     "shell.execute_reply": "2021-12-13T05:11:59.456313Z",
     "shell.execute_reply.started": "2021-12-13T05:11:59.427386Z"
    }
   },
   "outputs": [],
   "source": [
    "sub[['comment_id', 'score']].to_csv(\"submission.csv\", index=False)"
   ]
  }
 ],
 "metadata": {
  "kernelspec": {
   "display_name": "Python 3",
   "language": "python",
   "name": "python3"
  },
  "language_info": {
   "codemirror_mode": {
    "name": "ipython",
    "version": 3
   },
   "file_extension": ".py",
   "mimetype": "text/x-python",
   "name": "python",
   "nbconvert_exporter": "python",
   "pygments_lexer": "ipython3",
   "version": "3.8.5"
  }
 },
 "nbformat": 4,
 "nbformat_minor": 4
}
